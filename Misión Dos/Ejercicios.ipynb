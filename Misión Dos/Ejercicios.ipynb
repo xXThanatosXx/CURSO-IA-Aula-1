{
  "cells": [
    {
      "cell_type": "markdown",
      "metadata": {
        "id": "gvemr0EPGjny"
      },
      "source": [
        "La creación de variables también acepta asignarlas en una sola línea, puede ser un solo valor a múltiples variables o diferentes valores a diferentes variables o incluso algo que se conoce como desdempaquetado o unpacking"
      ]
    },
    {
      "cell_type": "code",
      "execution_count": null,
      "metadata": {
        "colab": {
          "base_uri": "https://localhost:8080/"
        },
        "id": "GwbzSptOIhIN",
        "outputId": "f7bb4bf5-9838-4700-b2c5-cc5df73330d7"
      },
      "outputs": [
        {
          "name": "stdout",
          "output_type": "stream",
          "text": [
            "hola mundo\n",
            "Lorem ipsum dolor sit amet,\n",
            "consectetur adipiscing elit,\n",
            "sed do eiusmod tempor incididunt\n",
            "ut labore et dolore magna aliqua.\n"
          ]
        }
      ],
      "source": [
        "a = \"hola\"\n",
        "b = 'mundo'\n",
        "\n",
        "#En cadenas es posible utilizar el operador + (suma), que aplica una concatenación de las dos cadenas\n",
        "\n",
        "print(a + \" \" + b)\n",
        "\n",
        "# o definir variables que ocupen varias líneas utilizando triple comillas \"\"\" o '''\n",
        "\n",
        "a = \"\"\"Lorem ipsum dolor sit amet,\n",
        "consectetur adipiscing elit,\n",
        "sed do eiusmod tempor incididunt\n",
        "ut labore et dolore magna aliqua.\"\"\"\n",
        "print(a)"
      ]
    },
    {
      "cell_type": "markdown",
      "metadata": {
        "id": "d6zPVCxvOPBs"
      },
      "source": [
        "Las cadenas tienes diferentes métodos asociados que permite dividirlas (slicing), modificarla, concatenarla, formatearlas, entre otros, puede encontrar una referencia completa a los [Métodos de cadenas](https://www.w3schools.com/python/python_strings_methods.asp)"
      ]
    },
    {
      "cell_type": "code",
      "execution_count": null,
      "metadata": {
        "colab": {
          "base_uri": "https://localhost:8080/"
        },
        "id": "MQAxFzTDQNMH",
        "outputId": "4ce74021-7f66-4cae-9381-3921f7616471"
      },
      "outputs": [
        {
          "name": "stdout",
          "output_type": "stream",
          "text": [
            "hola\n",
            "['hola', 'a', 'todos,', 'cómo', 'están?']\n",
            "HOLA A TODOS, CÓMO ESTÁN?\n",
            "25\n"
          ]
        }
      ],
      "source": [
        "saludo = \"hola a todos, cómo están?\"\n",
        "\n",
        "#mostrar desde el inicio hasta el 4to elemento\n",
        "print(saludo[:4])\n",
        "\n",
        "#Separar la cadena por un carácter\n",
        "print(saludo.split(' '))\n",
        "\n",
        "#Mayúsculas\n",
        "print(saludo.upper())\n",
        "\n",
        "#longitud\n",
        "print(len(saludo))"
      ]
    },
    {
      "cell_type": "markdown",
      "metadata": {
        "id": "dPweR-tqUkXo"
      },
      "source": [
        "| Operador | Nombre       |\n",
        "| --------- | --------------- |\n",
        "|    ==      | Igual            |\n",
        "|    !=      | Diferente           |\n",
        "|    >      | Mayor qué  |\n",
        "|    <      | Menor qué        |\n",
        "|    >=     | Mayor o igual |\n",
        "|    <=   | Menor o igual        |\n",
        "\n",
        "Existen otros operadores llamados lógicos, están asociados a tablas de verdad en lógica y se presentan a continuación:\n",
        "\n",
        "| Operador | Nombre       |\n",
        "| --------- | --------------- |\n",
        "|    and      | True si ambos estamentos son verdaderos            |\n",
        "|    or      | True si al menos uno de los estamentos es verdadero           |\n",
        "|    not      | Niega el resultado, si se obtuvo un True retorna un False  |"
      ]
    },
    {
      "cell_type": "code",
      "execution_count": null,
      "metadata": {
        "colab": {
          "base_uri": "https://localhost:8080/"
        },
        "id": "Kjk81FgMWUE1",
        "outputId": "3b69bf7a-3f74-4c69-ff5d-58c2c50ffe1d"
      },
      "outputs": [
        {
          "name": "stdout",
          "output_type": "stream",
          "text": [
            "True\n",
            "True\n",
            "False\n",
            "False\n",
            "False\n",
            "False\n",
            "True\n",
            "False\n"
          ]
        }
      ],
      "source": [
        "#En Python, la mayoría de los valores son True\n",
        "\n",
        "print(bool('abc'))\n",
        "print(bool(1))\n",
        "\n",
        "#Y algunos son falsos\n",
        "\n",
        "print(bool(0))\n",
        "print(bool([]))\n",
        "print(bool({}))\n",
        "\n",
        "#Utilizando comparadores\n",
        "a = 1\n",
        "b = 2\n",
        "\n",
        "print( a > b )\n",
        "print( a < b )\n",
        "print( a == b )"
      ]
    },
    {
      "cell_type": "markdown",
      "metadata": {},
      "source": [
        "### Ejercitación variables\n",
        "> Hacer con los estudiantes un ejercicio para crear variables para los siguientes valores:\n",
        "\n",
        "- Velocidad de la luz\n",
        "- PI\n",
        "- IVA\n",
        "- Estrella del sistema solar\n",
        "- Mayoría de edad en Colombia\n",
        "- Capital de Colombia\n",
        "- Número de departamentos de Colombia\n",
        "- Dato de la población de Colombia más reciente"
      ]
    },
    {
      "cell_type": "markdown",
      "metadata": {
        "id": "JF-W8JLwEOOg"
      },
      "source": []
    },
    {
      "cell_type": "markdown",
      "metadata": {
        "id": "gmx4gZ8Xtq5e"
      },
      "source": [
        "### Ejercitación\n",
        "\n",
        "Qué pasará con un literal especial en Python llamado `None`?"
      ]
    },
    {
      "cell_type": "markdown",
      "metadata": {
        "id": "uyB7rixEIu-r"
      },
      "source": [
        "##Método input\n",
        "\n",
        "El método `input()` permite el ingreso de información por parte del usuario, como se ve en el ejemplo anterior, el programa pregunta por un carácter para ejecutar una acción.\n",
        "\n",
        "Puede ser una palabra, números o frases completas, sin embargo el método `input()` recibe esta información como una cadena de texto, es importante tenerlo presente porque al momento de requerir un número o un flotante se debe hacer la conversión de tipo.\n",
        "\n",
        "Los datos ingresados pueden ser almacenados en una variable para gestionarla dentro del código."
      ]
    },
    {
      "cell_type": "code",
      "execution_count": null,
      "metadata": {
        "colab": {
          "base_uri": "https://localhost:8080/"
        },
        "id": "sp_vKfptL08w",
        "outputId": "63c8e2d0-f7b9-4e66-eb2d-2638ffe45cc7"
      },
      "outputs": [
        {
          "name": "stdout",
          "output_type": "stream",
          "text": [
            "Ingrese su edad: 30\n",
            "Usted tiene 30 años\n"
          ]
        }
      ],
      "source": [
        "edad = int(input('Ingrese su edad: '))\n",
        "\n",
        "print(f'Usted tiene {edad} años')"
      ]
    },
    {
      "cell_type": "markdown",
      "metadata": {
        "id": "fqmjvlEwMOa6"
      },
      "source": [
        "### Ejercitación\n",
        "\n",
        "Actualice el código anterior para que el número límite de los ciclos sea ingresado por el usuario. Recuerde validar que sea un número, positivo, mayor a 0 y que sea entero."
      ]
    },
    {
      "cell_type": "markdown",
      "metadata": {
        "id": "k616NIA0P_m8"
      },
      "source": [
        "##Alcance/Scope/Ambito de las variables en Python\n",
        "\n",
        "En Python, las variables solo existen dentro de la región que ha sido creada, a esto se le conoce como el scope.\n",
        "\n",
        "Una variable que es creada dentro de una función, solo puede ser utilizada dentro de dicha función, esto se conoce como scope local.\n",
        "\n",
        "Del ejemplo anterior se puede identificar las variables `a` y `b` las cuales solo existen dentro del bloque de la función, ya que por fuera de ella las variables no están definidas o tienen un valor y tipo de datos diferente\n",
        "\n"
      ]
    },
    {
      "cell_type": "code",
      "execution_count": 14,
      "metadata": {
        "colab": {
          "base_uri": "https://localhost:8080/"
        },
        "id": "1qX8fHHkiRYd",
        "outputId": "2abbe484-09a7-4f47-8ea8-bf366e0525ad"
      },
      "outputs": [
        {
          "name": "stdout",
          "output_type": "stream",
          "text": [
            "10 100\n",
            "Aquí la variable a vale 50\n",
            "y puedo acceder a b que vale 100\n",
            "10 100\n"
          ]
        }
      ],
      "source": [
        "a = 10\n",
        "b = 100\n",
        "print(a, b)\n",
        "\n",
        "def imprimir(a):\n",
        "  print(f'Aquí la variable a vale {a}')\n",
        "  print(f'y puedo acceder a b que vale {b}')\n",
        "\n",
        "imprimir(50)\n",
        "\n",
        "print(a,b)"
      ]
    },
    {
      "cell_type": "code",
      "execution_count": 17,
      "metadata": {},
      "outputs": [
        {
          "name": "stdout",
          "output_type": "stream",
          "text": [
            "texto\n"
          ]
        }
      ],
      "source": [
        "a = int(input(\"Digite su edad en años\"))\n",
        "\n",
        "if a > 0 and a <=20:\n",
        "\n",
        "    print(\"Deacuerdo a tu edad eres joven\")\n",
        "    print(\"/\"*4)\n",
        "print(\"texto\")\n"
      ]
    },
    {
      "cell_type": "markdown",
      "metadata": {
        "id": "4cDCFHPuwHA8"
      },
      "source": [
        "# **Lección 3 - Operadores y expresiones**"
      ]
    },
    {
      "cell_type": "markdown",
      "metadata": {
        "id": "cRYTl5Ojxlbh"
      },
      "source": [
        "Un operador es un símbolo del lenguaje de programación, el cual es capaz de realizar operaciones con los valores.\n",
        "\n",
        "Los operadores más comunes son los que están asociados con las operaciones aritméticas más conocidas:\n",
        "\n",
        "```\n",
        "+   # Suma\n",
        "-   # Resta\n",
        "*   # Multiplicación\n",
        "/   # División\n",
        "//  # Divisón parte entera\n",
        "%   # Módulo o Residuo\n",
        "**  # Exponenciación\n",
        "```\n",
        "\n",
        "El orden en el que se presentan hace referencia a algo llamado precedencia, se utilizará la convención matemática **PENDAS**, más adelante se detalla.\n",
        "\n",
        "Note que los operadores tienen un espacio a cada lado, esto es solo por motivos de facilitar la legibilidad del código. Cuando los datos y operadores se unen, forman juntos expresiones."
      ]
    },
    {
      "cell_type": "code",
      "execution_count": 1,
      "metadata": {
        "id": "a4CmB1qmydr_"
      },
      "outputs": [
        {
          "name": "stdout",
          "output_type": "stream",
          "text": [
            "8\n",
            "8.0\n"
          ]
        }
      ],
      "source": [
        "#Operador Exponenciación\n",
        "print(2 ** 3)     # Entre enteros, el resultado es entero\n",
        "print(2 ** 3.)    # Si hay flotantes entonces el resultado es flotante"
      ]
    },
    {
      "cell_type": "code",
      "execution_count": 2,
      "metadata": {
        "colab": {
          "base_uri": "https://localhost:8080/"
        },
        "id": "hQR0u73L2Xdr",
        "outputId": "c3cea9c6-7d96-4179-f333-2c244c98bf8c"
      },
      "outputs": [
        {
          "name": "stdout",
          "output_type": "stream",
          "text": [
            "hola mi nombre es Andres, y tengo 12.5 años\n",
            "hola mi nombres es Andres, y tengo 12.5 años\n"
          ]
        }
      ],
      "source": [
        "1//2\n",
        "name = \"Andres\"\n",
        "edad = 12.5\n",
        "print(\"hola mi nombre es {}, y tengo {} años\".format(name, edad))\n",
        "print(\"hola mi nombres es %s, y tengo %s años\" %(name,edad))\n"
      ]
    },
    {
      "cell_type": "markdown",
      "metadata": {
        "id": "wkSYPkhi5A-p"
      },
      "source": [
        "### Precedencia"
      ]
    },
    {
      "cell_type": "code",
      "execution_count": 18,
      "metadata": {
        "id": "25CLUivj5CUW"
      },
      "outputs": [
        {
          "data": {
            "text/plain": [
              "17"
            ]
          },
          "execution_count": 18,
          "metadata": {},
          "output_type": "execute_result"
        }
      ],
      "source": [
        "(2 + 3 * 5) # Cuál es el resultado y por qué?"
      ]
    },
    {
      "cell_type": "code",
      "execution_count": null,
      "metadata": {
        "id": "qSby2bp16IiB"
      },
      "outputs": [],
      "source": [
        "print(2 ** 2 ** 3)"
      ]
    },
    {
      "cell_type": "markdown",
      "metadata": {
        "id": "R_dXFIEULSwq"
      },
      "source": [
        "\n",
        "\n",
        "Cuando en una expresión aparece más de un operador, el orden de evaluación depende de las reglas de precedencia. Para los operadores matemáticos, Python sigue la convención matemática. El acrónimo **PEMDAS** es una forma útil de recordar las reglas:\n",
        "\n",
        "- Paréntesis\n",
        "- Exponentes\n",
        "- Multiplicación\n",
        "- División\n",
        "- Adición\n",
        "- Sustracción\n",
        "\n",
        "> Ejercicio con los estudiantes para resolver una expresión matemática\n"
      ]
    },
    {
      "cell_type": "code",
      "execution_count": null,
      "metadata": {
        "id": "_OwL6oKg7X0S"
      },
      "outputs": [],
      "source": [
        "print((5 * ((25 % 13) + 100) / (2 * 13)) // 2)"
      ]
    },
    {
      "cell_type": "code",
      "execution_count": null,
      "metadata": {
        "colab": {
          "base_uri": "https://localhost:8080/"
        },
        "id": "BYPcwx4xCNms",
        "outputId": "9d2ec3c0-a781-420d-b242-ed9f8496616d"
      },
      "outputs": [
        {
          "data": {
            "text/plain": [
              "-0.25"
            ]
          },
          "execution_count": 22,
          "metadata": {},
          "output_type": "execute_result"
        }
      ],
      "source": [
        "-4 ** -1"
      ]
    },
    {
      "cell_type": "markdown",
      "metadata": {
        "id": "meZkXjSTC5zy"
      },
      "source": [
        "Algunos operadores actúan antes que otros, a esto se le llama - jerarquía de prioridades:\n",
        "\n",
        "- El operador `**` (exponencial) tiene la prioridad más alta;\n",
        "- Posteriormente los operadores unarios `+` y `-` (nota: los operadores unarios a la derecha del operador exponencial enlazan con mayor fuerza, por ejemplo `4 ** -1` es igual a `0.25`)\n",
        "- Después `*`, `/`, `//`, y `%``\n",
        "- Finalmente, la prioridad más baja: los operadores binarios `+` y `-`.\n"
      ]
    },
    {
      "cell_type": "code",
      "execution_count": null,
      "metadata": {
        "colab": {
          "base_uri": "https://localhost:8080/"
        },
        "id": "cxGuWT3qGakO",
        "outputId": "bef478bd-0902-4e69-dbdc-19b4d8ba0087"
      },
      "outputs": [
        {
          "data": {
            "text/plain": [
              "2417851639229258349412352"
            ]
          },
          "execution_count": 23,
          "metadata": {},
          "output_type": "execute_result"
        }
      ],
      "source": [
        "(2 ** 3 ** 2 ** 2)"
      ]
    },
    {
      "cell_type": "code",
      "execution_count": 29,
      "metadata": {
        "colab": {
          "base_uri": "https://localhost:8080/"
        },
        "id": "9Mb3CiftGeTn",
        "outputId": "d4b62e23-f88e-412b-a7b9-ed3988c9c570"
      },
      "outputs": [
        {
          "name": "stdout",
          "output_type": "stream",
          "text": [
            "lista [0, 2, 3]\n"
          ]
        }
      ],
      "source": [
        "3 ** 2 ** 2\n",
        "#lista = ['1',2,3]\n",
        "tupla = ('1',2,3)\n",
        "lista [0] =0\n",
        "# tupla [1]= 0\n",
        "print('lista',lista)\n"
      ]
    },
    {
      "cell_type": "markdown",
      "metadata": {},
      "source": [
        "### Ejercitación\n",
        "\n"
      ]
    },
    {
      "cell_type": "markdown",
      "metadata": {},
      "source": [
        "1). Cree un código que permita identificar si un número es par"
      ]
    },
    {
      "cell_type": "code",
      "execution_count": 11,
      "metadata": {},
      "outputs": [
        {
          "name": "stdout",
          "output_type": "stream",
          "text": [
            "1\n"
          ]
        }
      ],
      "source": [
        "print(9 % 2 == 0)"
      ]
    },
    {
      "cell_type": "code",
      "execution_count": 3,
      "metadata": {},
      "outputs": [
        {
          "name": "stdout",
          "output_type": "stream",
          "text": [
            "El número es 0.\n"
          ]
        }
      ],
      "source": [
        "# Solicita al usuario ingresar un número\n",
        "numero = float(input(\"Introduce un número: \"))\n",
        "\n",
        "      \n",
        "if numero == 0:\n",
        "    print(\"El número es 0.\")\n",
        "# # Verifica si el número es par\n",
        "elif numero % 2 == 0:\n",
        "     print(\"El número es par.\")\n",
        "\n",
        "else:\n",
        "     print(\"NO cumple ninguna condicion\")\n",
        "\n",
        "          \n"
      ]
    },
    {
      "cell_type": "code",
      "execution_count": 26,
      "metadata": {},
      "outputs": [
        {
          "name": "stdout",
          "output_type": "stream",
          "text": [
            "<class 'str'>\n"
          ]
        }
      ],
      "source": [
        "numero = input(\"Introduce un número: \")\n",
        "\n",
        "# int (entero)\n",
        "# float(flotante)\n",
        "# str(string)\n",
        "print(type(numero))\n",
        "conv = str(numero)\n",
        "\n",
        "# # # Verifica si el número es cero\n",
        "# if conv == \"a\":\n",
        "#       print(f\"la letra ingresada es {conv}\")\n",
        "# else:\n",
        "#       print(f\"La letra ingresada {conv} no es A\")\n"
      ]
    },
    {
      "cell_type": "code",
      "execution_count": 30,
      "metadata": {},
      "outputs": [
        {
          "name": "stdout",
          "output_type": "stream",
          "text": [
            "4\n",
            "50\n"
          ]
        }
      ],
      "source": [
        "#lista = [10, 20, 15, 5]\n",
        "\n",
        "print(len(lista))\n",
        "\n",
        "sum = lista[0] + lista[1] + lista[2] + lista[3]\n",
        "\n",
        "print(sum)\n",
        "\n"
      ]
    },
    {
      "cell_type": "markdown",
      "metadata": {},
      "source": [
        "1). La tarea es preparar un código simple para evaluar o encontrar el tiempo final de un periodo de tiempo dado, expresándolo en horas y minutos. La hora de inicio se da como un par de horas (0..23) y minutos (0..59). El resultado debe ser mostrado en la consola.\n",
        "\n",
        "Por ejemplo, si el evento comienza a las 12:17 y dura 59 minutos, terminará a las 13:16.\n",
        "\n",
        "No te preocupes si tu código no es perfecto - está bien si acepta una hora invalida - lo más importante es que el código produzca una salida correcta acorde a la entrada dada.\n",
        "\n",
        "Prueba el código cuidadosamente. Pista: utilizar el operador `%` puede ser clave para el éxito."
      ]
    },
    {
      "cell_type": "code",
      "execution_count": null,
      "metadata": {},
      "outputs": [],
      "source": [
        "hour = int(input(\"Hora de inicio (horas): \"))\n",
        "mins = int(input(\"Minuto de inicio (minutos): \"))\n",
        "dura = int(input(\"Duración del evento (minutos): \"))\n",
        "mins = mins + dura # encuentra el número total de minutos\n",
        "hour = hour + mins // 60 # encuentra el número de horas ocultas en los minutos y actualiza las horas\n",
        "mins = mins % 60 # corrige los minutos para que estén en un rango de (0..59)\n",
        "hour = hour % 24 # corrige las horas para que estén en un rango de (0..23)\n",
        "print(hour, \":\", mins, sep='')"
      ]
    },
    {
      "cell_type": "markdown",
      "metadata": {},
      "source": [
        "2). Escribe un programa que sume todos los elementos de una lista dada emplee el comando(Sum)"
      ]
    },
    {
      "cell_type": "code",
      "execution_count": null,
      "metadata": {},
      "outputs": [],
      "source": [
        "#lista = [1, 2, 3, 4, 5]\n",
        "suma = sum(lista)\n",
        "print(\"La suma de los elementos de la lista es:\", suma)\n",
        "\n"
      ]
    },
    {
      "cell_type": "markdown",
      "metadata": {},
      "source": [
        "3). Crea un programa que verifique si un elemento dado está presente en una lista específica."
      ]
    },
    {
      "cell_type": "code",
      "execution_count": 4,
      "metadata": {},
      "outputs": [
        {
          "name": "stdout",
          "output_type": "stream",
          "text": [
            "El elemento 3 está presente en la tupla.\n"
          ]
        }
      ],
      "source": [
        "#lista= [1, 2, 3, 4, 5]\n",
        "elemento = 3\n",
        "\n",
        "if elemento in lista:\n",
        "    print(\"El elemento\", elemento, \"está presente en la lista.\")\n",
        "else:\n",
        "    print(\"El elemento\", elemento, \"no está presente en la lista.\")\n",
        "\n"
      ]
    },
    {
      "cell_type": "markdown",
      "metadata": {},
      "source": [
        "4). Escribe un programa que tome un número como entrada y determine si es positivo, negativo o cero."
      ]
    },
    {
      "cell_type": "code",
      "execution_count": null,
      "metadata": {},
      "outputs": [],
      "source": [
        "numero = float(input(\"Ingrese un número: \"))\n",
        "if numero > 0:\n",
        "    print(\"El número es positivo.\")\n",
        "elif numero < 0:\n",
        "    print(\"El número es negativo.\")\n",
        "else:\n",
        "    print(\"El número es cero.\")\n",
        "\n"
      ]
    },
    {
      "cell_type": "markdown",
      "metadata": {},
      "source": [
        "5). Desarrolla un programa que sume solo los elementos pares de una lista dada."
      ]
    },
    {
      "cell_type": "code",
      "execution_count": 8,
      "metadata": {},
      "outputs": [
        {
          "name": "stdout",
          "output_type": "stream",
          "text": [
            "La suma de los números pares es: 8\n"
          ]
        }
      ],
      "source": [
        "lista = [1, 2, 3, 4, 5]\n",
        "\n",
        "#suma_pares = 0 \n",
        "suma_pares = 2   \n",
        "for num in lista:  \n",
        "    if num % 2 == 0:\n",
        "        \n",
        "        suma_pares += num  \n",
        "print(\"La suma de los números pares es:\", suma_pares)\n"
      ]
    },
    {
      "cell_type": "code",
      "execution_count": 5,
      "metadata": {},
      "outputs": [
        {
          "name": "stdout",
          "output_type": "stream",
          "text": [
            "2\n",
            "3\n"
          ]
        }
      ],
      "source": [
        "a = 2\n",
        "print(a)\n",
        "a = 3\n",
        "print(a)"
      ]
    },
    {
      "cell_type": "code",
      "execution_count": 6,
      "metadata": {},
      "outputs": [
        {
          "name": "stdout",
          "output_type": "stream",
          "text": [
            "La suma de los números pares es: 6\n"
          ]
        }
      ],
      "source": [
        "lista_uno = [1, 2, 3, 4, 5]\n",
        "suma_pares = sum(num for num in lista_uno if num % 2 == 0)\n",
        "print(\"La suma de los números pares es:\", suma_pares)"
      ]
    },
    {
      "cell_type": "code",
      "execution_count": 47,
      "metadata": {},
      "outputs": [
        {
          "name": "stdout",
          "output_type": "stream",
          "text": [
            "Tiempo promedio de ejecución: 6.018799999992552e-07 segundos por ejecución\n"
          ]
        }
      ],
      "source": [
        "import timeit\n",
        "\n",
        "# Define el código a medir como una cadena de texto\n",
        "codigo = \"\"\"\n",
        "suma_pares = 0\n",
        "for num in lista:\n",
        "    if num % 2 == 0:\n",
        "        suma_pares += num\n",
        "\"\"\"\n",
        "\n",
        "# Define cualquier configuración inicial necesaria para el código\n",
        "setup_codigo = \"\"\"\n",
        "lista = [1, 2, 3, 4, 5]\n",
        "\"\"\"\n",
        "# Ejecuta timeit con el código y la configuración inicial\n",
        "tiempo = timeit.timeit(stmt=codigo, setup=setup_codigo, number=10000)\n",
        "print(f\"Tiempo promedio de ejecución: {tiempo / 10000} segundos por ejecución\")\n"
      ]
    },
    {
      "cell_type": "code",
      "execution_count": 10,
      "metadata": {},
      "outputs": [
        {
          "name": "stdout",
          "output_type": "stream",
          "text": [
            "Tiempo promedio de ejecución: 0.00015979730000003655 segundos por ejecución\n"
          ]
        }
      ],
      "source": [
        "import timeit\n",
        "\n",
        "\n",
        "tiempo = timeit.timeit('sum(num for num in lista if num % 2 == 0)', setup='lista = range(1000)', number=1000)\n",
        "print(f\"Tiempo promedio de ejecución: {tiempo / 1000} segundos por ejecución\")"
      ]
    },
    {
      "cell_type": "markdown",
      "metadata": {},
      "source": [
        "6). Escribe un programa que modifique los valores de un diccionario, aumentándolos en un 10%, si son mayores que 100"
      ]
    },
    {
      "cell_type": "code",
      "execution_count": null,
      "metadata": {},
      "outputs": [],
      "source": [
        "\n",
        "diccionario = {'a': 90, 'b': 110, 'c': 120}\n",
        "for key, value in diccionario.items():\n",
        "    if value > 100:\n",
        "        diccionario[key] = value * 1.1\n",
        "print(\"Diccionario modificado:\", diccionario)\n"
      ]
    },
    {
      "cell_type": "markdown",
      "metadata": {},
      "source": [
        "7). Crea un programa que imprima las claves de un diccionario si su valor asociado es un número par."
      ]
    },
    {
      "cell_type": "code",
      "execution_count": null,
      "metadata": {},
      "outputs": [],
      "source": [
        "\n",
        "diccionario = {'a': 2, 'b': 3, 'c': 4, 'd': 5}\n",
        "claves_pares = [key for key, value in diccionario.items() if value % 2 == 0]\n",
        "print(\"Claves con valores pares:\", claves_pares)\n"
      ]
    },
    {
      "cell_type": "markdown",
      "metadata": {},
      "source": [
        "8). Desarrolla un programa que recorra una tupla y imprima los elementos que sean mayores que un valor específico."
      ]
    },
    {
      "cell_type": "code",
      "execution_count": null,
      "metadata": {},
      "outputs": [],
      "source": [
        "tupla = (10, 20, 30, 40, 50)\n",
        "valor = 25\n",
        "elementos_mayores = [elem for elem in tupla if elem > valor]\n",
        "print(\"Elementos mayores que\", valor, \":\", elementos_mayores)\n"
      ]
    },
    {
      "cell_type": "markdown",
      "metadata": {},
      "source": [
        "9). Escribe un programa que cuente cuántos elementos de una lista dada están dentro de un rango numérico especificado."
      ]
    },
    {
      "cell_type": "code",
      "execution_count": null,
      "metadata": {},
      "outputs": [],
      "source": [
        "lista = [10, 20, 30, 40, 50]\n",
        "rango_inicio = 20\n",
        "rango_fin = 40\n",
        "elementos_en_rango = sum(1 for elem in lista if rango_inicio <= elem <= rango_fin)\n",
        "print(\"Cantidad de elementos en el rango:\", elementos_en_rango)\n",
        "\n"
      ]
    },
    {
      "cell_type": "code",
      "execution_count": 8,
      "metadata": {},
      "outputs": [
        {
          "name": "stdout",
          "output_type": "stream",
          "text": [
            "El número es par.\n"
          ]
        }
      ],
      "source": [
        "def clasificar_numero(num):\n",
        "    # Verifica si el número es cero\n",
        "    if num == 0:\n",
        "        return \"El número es 0.\"\n",
        "    \n",
        "    # Verifica si el número es par\n",
        "    elif num % 2 == 0:\n",
        "        return \"El número es par.\"\n",
        "    \n",
        "    # Si el número es impar, verifica si es divisible entre 3\n",
        "    else:\n",
        "        if num % 3 == 0:\n",
        "            return \"El número es impar y es divisible entre 3.\"\n",
        "        else:\n",
        "            return \"El número es impar y no es divisible entre 3.\"\n",
        "\n",
        "# Ejemplo de uso\n",
        "numero = int(input(\"Introduce un número: \"))\n",
        "resultado = clasificar_numero(numero)\n",
        "print(resultado)\n"
      ]
    },
    {
      "cell_type": "markdown",
      "metadata": {
        "id": "9Y8j3GWqiE5y"
      },
      "source": [
        "### Ejercitación\n",
        "\n",
        "A continuación una historia:\n",
        "      \n",
        "      [Fuente: 2.4.7   LAB   Variables, Fundamentos de Python 1, skills for all]\n",
        "\n",
        "Érase una vez en la Tierra de las Manzanas, Juan tenía tres manzanas, María tenía cinco manzanas, y Adán tenía seis manzanas. Todos eran muy felices y vivieron por muchísimo tiempo. Fin de la Historia.\n",
        "\n",
        "Tu tarea es:\n",
        "\n",
        "- Crear las variables: john, mary, y adam;\n",
        "- Asignar valores a las variables. El valor debe de ser igual al número de manzanas que cada quien tenía;\n",
        "- Una vez almacenados los números en las variables, imprimir las variables en una línea, y separar cada una de ellas con una coma;\n",
        "- Después se debe crear una nueva variable llamada total_apples y se debe igualar a la suma de las tres variables anteriores;\n",
        "- Imprime el valor almacenado en total_apples en la consola;\n",
        "- Actualiza el código para que ahora la cantidad de manzanas sea ingresada por el usuario utilizando la función `input()`"
      ]
    },
    {
      "cell_type": "markdown",
      "metadata": {
        "id": "KkwVPul6jnr7"
      },
      "source": [
        "###Ejercitación\n",
        "\n",
        "Debe completar el código para ejecutar la siguiente expresión:\n",
        "\n",
        "![imagen.png](data:image/png;base64,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)"
      ]
    },
    {
      "cell_type": "markdown",
      "metadata": {
        "id": "FjyZdNBOjy5B"
      },
      "source": [
        "El resultado debe de ser asignado a y. Se cauteloso, observa los operadores y priorízalos. Utiliza cuantos paréntesis sean necesarios.\n",
        "\n",
        "Aquí algunos casos de prueba\n",
        "\n",
        "\n",
        "\n",
        "| Entrada | Salida       |\n",
        "| --------- | --------------- |\n",
        "|    1      | y = 0.6000000000000001            |\n",
        "|    10      | y = 0.09901951266867294           |\n",
        "|    100      | y = 0.009999000199950014  |\n",
        "|    -5      | y = -0.19258202567760344        |"
      ]
    },
    {
      "cell_type": "markdown",
      "metadata": {
        "id": "UJ8nKJE-k4D-"
      },
      "source": [
        "### Ejercitación\n",
        "\n"
      ]
    },
    {
      "cell_type": "markdown",
      "metadata": {
        "id": "Q6xUx-1wlDF5"
      },
      "source": [
        "| Entrada | Salida       |\n",
        "| --------- | --------------- |\n",
        "|    Hora: 12, Minuto: 17, Duración: 59      | 13:16 |\n",
        "|    Hora: 23, Minuto: 58, Duración: 642      | 10:40 |\n",
        "|    Hora: 0, Minuto: 1, Duración: 2939      | 1:0 |"
      ]
    }
  ],
  "metadata": {
    "colab": {
      "provenance": [],
      "toc_visible": true
    },
    "kernelspec": {
      "display_name": "Python 3",
      "name": "python3"
    },
    "language_info": {
      "codemirror_mode": {
        "name": "ipython",
        "version": 3
      },
      "file_extension": ".py",
      "mimetype": "text/x-python",
      "name": "python",
      "nbconvert_exporter": "python",
      "pygments_lexer": "ipython3",
      "version": "3.9.6"
    }
  },
  "nbformat": 4,
  "nbformat_minor": 0
}
